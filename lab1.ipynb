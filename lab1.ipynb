{
 "cells": [
  {
   "cell_type": "code",
   "execution_count": 1,
   "outputs": [],
   "source": [
    "from gradient_descent import GradientDescent"
   ],
   "metadata": {
    "collapsed": false,
    "pycharm": {
     "name": "#%%\n",
     "is_executing": false
    }
   }
  },
  {
   "cell_type": "code",
   "execution_count": 2,
   "outputs": [
    {
     "name": "stdout",
     "text": [
      "(array([0.00779688]), 1)\n"
     ],
     "output_type": "stream"
    }
   ],
   "source": [
    "gd = GradientDescent()\n",
    "print(gd.optimize())"
   ],
   "metadata": {
    "collapsed": false,
    "pycharm": {
     "name": "#%%\n",
     "is_executing": false
    }
   }
  },
  {
   "cell_type": "code",
   "execution_count": 7,
   "metadata": {},
   "outputs": [
    {
     "name": "stdout",
     "output_type": "stream",
     "text": [
      "0.02\n",
      "0.04\n",
      "0.08\n",
      "0.16\n",
      "0.32\n",
      "0.64\n",
      "1.28\n",
      "2.56\n",
      "5.12\n",
      "10.24\n"
     ]
    }
   ],
   "source": [
    "class LRScheduler:\n",
    "    def __init__(self, lr):\n",
    "        self.lr = lr\n",
    "    def step(self):\n",
    "        return lr\n",
    "        \n",
    "class ConstLRScheduler:\n",
    "    pass\n",
    "\n",
    "class ExpLRScheduler:\n",
    "    def __init__(self, lr, period, gamma):\n",
    "        self.lr = lr\n",
    "        self.period = period\n",
    "        self.gamma = gamma\n",
    "        self.step_count = 0\n",
    "    def step(self):\n",
    "        self.step_count += 1\n",
    "        if (self.step_count % self.period == 0):\n",
    "            self.step_count = 0\n",
    "            self.lr *= self.gamma\n",
    "        return self.lr\n",
    "    \n",
    "scheduler = ExpLRScheduler(0.01, 1, 2)\n",
    "for _ in range(10):\n",
    "    scheduler.step()\n",
    "    print(scheduler.lr)"
   ]
  },
  {
   "cell_type": "code",
   "execution_count": null,
   "metadata": {},
   "outputs": [],
   "source": []
  }
 ],
 "metadata": {
  "kernelspec": {
   "display_name": "Python 3",
   "language": "python",
   "name": "python3"
  },
  "language_info": {
   "codemirror_mode": {
    "name": "ipython",
    "version": 3
   },
   "file_extension": ".py",
   "mimetype": "text/x-python",
   "name": "python",
   "nbconvert_exporter": "python",
   "pygments_lexer": "ipython3",
   "version": "3.8.10"
  },
  "pycharm": {
   "stem_cell": {
    "cell_type": "raw",
    "source": [],
    "metadata": {
     "collapsed": false
    }
   }
  }
 },
 "nbformat": 4,
 "nbformat_minor": 5
}