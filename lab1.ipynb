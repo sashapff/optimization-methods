{
 "cells": [
  {
   "cell_type": "code",
   "execution_count": 2,
   "metadata": {},
   "outputs": [
    {
     "ename": "SyntaxError",
     "evalue": "invalid syntax (<ipython-input-2-1f71ea1b3743>, line 17)",
     "output_type": "error",
     "traceback": [
      "\u001b[1;36m  File \u001b[1;32m\"<ipython-input-2-1f71ea1b3743>\"\u001b[1;36m, line \u001b[1;32m17\u001b[0m\n\u001b[1;33m    self.step_count++\u001b[0m\n\u001b[1;37m                     ^\u001b[0m\n\u001b[1;31mSyntaxError\u001b[0m\u001b[1;31m:\u001b[0m invalid syntax\n"
     ]
    }
   ],
   "source": [
    "class LRScheduler:\n",
    "    def __init__(self, lr):\n",
    "        self.lr = lr\n",
    "    def step(self):\n",
    "        return lr\n",
    "        \n",
    "class ConstLRScheduler:\n",
    "    return lr;\n",
    "\n",
    "class ExpLRScheduler:\n",
    "    def __init__(self, lr, period, gamma):\n",
    "        self.lr = lr\n",
    "        self.period = period\n",
    "        self.gamma = gamma\n",
    "        self.step_count = 0\n",
    "    def step(self):\n",
    "        self.step_count++\n",
    "        if (self.step_count % self.period == 0):\n",
    "            self.step_count = 0\n",
    "            lr *= gamma\n",
    "    \n",
    "scheduler = ExpLRScheduler(0.01, 10, 2)\n",
    "for _ in range(100):\n",
    "    scheduler.step()\n",
    "    print(scheduler.lr)"
   ]
  },
  {
   "cell_type": "code",
   "execution_count": null,
   "metadata": {},
   "outputs": [],
   "source": []
  }
 ],
 "metadata": {
  "kernelspec": {
   "display_name": "Python 3",
   "language": "python",
   "name": "python3"
  },
  "language_info": {
   "codemirror_mode": {
    "name": "ipython",
    "version": 3
   },
   "file_extension": ".py",
   "mimetype": "text/x-python",
   "name": "python",
   "nbconvert_exporter": "python",
   "pygments_lexer": "ipython3",
   "version": "3.8.10"
  }
 },
 "nbformat": 4,
 "nbformat_minor": 5
}
